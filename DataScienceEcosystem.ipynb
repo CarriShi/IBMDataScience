{
 "cells": [
  {
   "cell_type": "markdown",
   "id": "fc0802d9-542d-4d81-a37b-1b3365f1b477",
   "metadata": {},
   "source": [
    "# Data Science Tools and Ecosystem"
   ]
  },
  {
   "cell_type": "markdown",
   "id": "3a328ffb-d840-4820-88b3-1cb12b4bfce4",
   "metadata": {},
   "source": [
    "In this notebook, Data Science Tools and Ecosystem are summarized."
   ]
  },
  {
   "cell_type": "markdown",
   "id": "57387706-ac3c-4a7a-b242-70ff559d60be",
   "metadata": {},
   "source": [
    "|Data Science Tools|\n",
    "|-|\n",
    "|Spark|\n",
    "|Flink|\n",
    "|MySQL|"
   ]
  },
  {
   "cell_type": "markdown",
   "id": "fc714dcb-4b13-4fe7-9f35-0192c08f792e",
   "metadata": {},
   "source": [
    "Some of the popular languages that Data Scientists use are\n",
    "1. Python\n",
    "2. R\n",
    "3. Julia"
   ]
  },
  {
   "cell_type": "markdown",
   "id": "47dc8ed4-8253-4702-b8bb-82320e987765",
   "metadata": {},
   "source": [
    "Some of the Commonly used libraries used by Data Scientists are\n",
    "* Pandas\n",
    "* Numpy\n",
    "* ggplot"
   ]
  },
  {
   "cell_type": "markdown",
   "id": "4a66cdbb-4d49-41cb-9ad2-cfa99b6dcea6",
   "metadata": {},
   "source": [
    "### Below are a few examples of evaluating arithmetic expressions in Python"
   ]
  },
  {
   "cell_type": "code",
   "execution_count": 3,
   "id": "a4ba8fdd-5b9f-4111-a7e0-effd08ee656a",
   "metadata": {
    "tags": []
   },
   "outputs": [
    {
     "data": {
      "text/plain": [
       "17"
      ]
     },
     "execution_count": 3,
     "metadata": {},
     "output_type": "execute_result"
    }
   ],
   "source": [
    "# This is a simple arithmetic expression to mulyiply then add integers\n",
    "(3*4)+5"
   ]
  },
  {
   "cell_type": "code",
   "execution_count": 8,
   "id": "aed85484-ee5b-4342-92cc-632f42ff40df",
   "metadata": {
    "tags": []
   },
   "outputs": [
    {
     "name": "stdout",
     "output_type": "stream",
     "text": [
      "3.3333333333333335\n"
     ]
    }
   ],
   "source": [
    "# This will convert 200 seconds into minutes bu dividing by 60\n",
    "hours=200/60\n",
    "print(hours)"
   ]
  },
  {
   "cell_type": "markdown",
   "id": "a4516233-37fc-465b-aeb4-94603125f4b6",
   "metadata": {},
   "source": [
    "**Objectives**\n",
    "* List popular languages for Data Science\n",
    "* List popular libraries for Data Science\n",
    "* Listafew examples"
   ]
  },
  {
   "cell_type": "markdown",
   "id": "6f9be26a-e500-4541-9469-31e8cf9ed752",
   "metadata": {
    "tags": []
   },
   "source": [
    "## Author\n",
    "Carri Shi"
   ]
  }
 ],
 "metadata": {
  "kernelspec": {
   "display_name": "Python 3 (ipykernel)",
   "language": "python",
   "name": "python3"
  },
  "language_info": {
   "codemirror_mode": {
    "name": "ipython",
    "version": 3
   },
   "file_extension": ".py",
   "mimetype": "text/x-python",
   "name": "python",
   "nbconvert_exporter": "python",
   "pygments_lexer": "ipython3",
   "version": "3.11.4"
  }
 },
 "nbformat": 4,
 "nbformat_minor": 5
}
